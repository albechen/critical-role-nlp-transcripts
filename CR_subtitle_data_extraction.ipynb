{
 "nbformat": 4,
 "nbformat_minor": 2,
 "metadata": {
  "language_info": {
   "name": "python",
   "codemirror_mode": {
    "name": "ipython",
    "version": 3
   },
   "version": "3.7.6-final"
  },
  "orig_nbformat": 2,
  "file_extension": ".py",
  "mimetype": "text/x-python",
  "name": "python",
  "npconvert_exporter": "python",
  "pygments_lexer": "ipython3",
  "version": 3,
  "kernelspec": {
   "name": "python37664bitprogramdatavirtualenv84195b66dd3b45dcb81955aa5916d881",
   "display_name": "Python 3.7.6 64-bit ('ProgramData': virtualenv)"
  }
 },
 "cells": [
  {
   "cell_type": "code",
   "execution_count": 1,
   "metadata": {},
   "outputs": [],
   "source": [
    "import pandas as pd\n",
    "import pkg_vtt_extract as vtt\n",
    "\n",
    "%load_ext autoreload\n",
    "%autoreload 2"
   ]
  },
  {
   "cell_type": "code",
   "execution_count": null,
   "metadata": {},
   "outputs": [],
   "source": [
    "vtt.combine_two_part_ep('C1', 'Denouement _ Critical Role RPG Show Episode 35, pt. 1.en.vtt', \n",
    "    'Denouement _ Critical Role RPG Show Episode 35, pt. 2.en.vtt', 35)\n",
    "\n",
    "vtt.combine_two_part_ep('C1', 'Gunpowder Plot, pt. 1  _ Critical Role RPG Show Episode 31.en.vtt', \n",
    "    'Gunpowder Plot, pt. 2  _ Critical Role RPG Show Episode 31.en.vtt', 31)\n",
    "\n",
    "vtt.combine_two_part_ep('C1', 'Reunions _ Critical Role RPG Show Episode 33, pt. 1.en.vtt', \n",
    "    'Reunions _ Critical Role RPG Show Episode 33, pt. 2.en.vtt', 33)"
   ]
  },
  {
   "cell_type": "code",
   "execution_count": 2,
   "metadata": {},
   "outputs": [],
   "source": [
    "vtt.rename_vtt('C1')\n",
    "vtt.rename_vtt('C2')"
   ]
  },
  {
   "cell_type": "code",
   "execution_count": 3,
   "metadata": {},
   "outputs": [
    {
     "name": "stdout",
     "output_type": "stream",
     "text": "WEBVTT\nKind: captions\nLanguage: en\n\n00:00:00.314 --> 00:00:04.420\nMATT: Hello everyone. My name is Matthew Mercer,\nvoice actor and Dungeon Master for Critical Role\n\n00:00:04.420 --> 00:00:08.768\non Geek &amp; Sundry, where I take a bunch of other\nvoice actors and run them through a fantastical\n\n00:00:08.768 --> 00:00:13.387\nfantasy adventure through the world of Dungeons &amp;\nDragons. We play every Thursday at 7:00pm Pacific\n\n00:00:13.387 --> 00:00:16.685\nStandard Time on Geek &amp; Sundry's Twitch stream.\nPlease come watch us live if you have the\n\n"
    }
   ],
   "source": [
    "with open(\"data_raw/C1_vtt/C1_1.vtt\", \"r\", encoding=\"latin-1\") as ep_raw:\n",
    "    ep_raw = ep_raw.read().splitlines()\n",
    "    count = 0\n",
    "    for line in ep_raw:\n",
    "        if count < 20:\n",
    "            print (line)\n",
    "            count += 1\n",
    "        else:\n",
    "            break"
   ]
  },
  {
   "cell_type": "code",
   "execution_count": 3,
   "metadata": {},
   "outputs": [
    {
     "name": "stdout",
     "output_type": "stream",
     "text": "Completed: ep 10 (1.02 min)\nCompleted: ep 20 (0.54 min)\nCompleted: ep 30 (0.45 min)\nCompleted: ep 40 (0.5 min)\nCompleted: ep 50 (0.5 min)\nCompleted: ep 60 (0.55 min)\nCompleted: ep 70 (0.47 min)\nCompleted: ep 80 (0.84 min)\nCompleted: ep 90 (1.59 min)\nCompleted: ep 100 (0.69 min)\nCompleted: ep 110 (0.45 min)\nCompleted: all\n"
    }
   ],
   "source": [
    "C1_processed_vtt_df = vtt.episode_extract('C1', 1, 115)\n",
    "C1_processed_vtt_df.to_csv('data_output/C1_processed_vtt_df.csv')"
   ]
  },
  {
   "cell_type": "code",
   "execution_count": 4,
   "metadata": {},
   "outputs": [
    {
     "data": {
      "text/html": "<div>\n<style scoped>\n    .dataframe tbody tr th:only-of-type {\n        vertical-align: middle;\n    }\n\n    .dataframe tbody tr th {\n        vertical-align: top;\n    }\n\n    .dataframe thead th {\n        text-align: right;\n    }\n</style>\n<table border=\"1\" class=\"dataframe\">\n  <thead>\n    <tr style=\"text-align: right;\">\n      <th></th>\n      <th>Unnamed: 0</th>\n      <th>start_time</th>\n      <th>end_time</th>\n      <th>name</th>\n      <th>speech</th>\n      <th>count</th>\n      <th>episode</th>\n    </tr>\n  </thead>\n  <tbody>\n    <tr>\n      <th>0</th>\n      <td>0</td>\n      <td>00:00:00.314</td>\n      <td>00:00:13.387</td>\n      <td>matt</td>\n      <td>hello everyone. my name is matthew mercer, voi...</td>\n      <td>31</td>\n      <td>1</td>\n    </tr>\n    <tr>\n      <th>1</th>\n      <td>1</td>\n      <td>00:00:24.239</td>\n      <td>00:01:09.809</td>\n      <td>matt</td>\n      <td>welcome to first episode of critical role, and...</td>\n      <td>167</td>\n      <td>1</td>\n    </tr>\n    <tr>\n      <th>2</th>\n      <td>2</td>\n      <td>00:01:09.809</td>\n      <td>00:01:29.671</td>\n      <td>travis</td>\n      <td>right, listen up! if you have ale, then you ha...</td>\n      <td>39</td>\n      <td>1</td>\n    </tr>\n    <tr>\n      <th>3</th>\n      <td>3</td>\n      <td>00:01:30.632</td>\n      <td>00:02:57.286</td>\n      <td>travis</td>\n      <td>wait. easily the brains of the group, grog is ...</td>\n      <td>180</td>\n      <td>1</td>\n    </tr>\n    <tr>\n      <th>4</th>\n      <td>4</td>\n      <td>00:02:57.286</td>\n      <td>00:03:13.178</td>\n      <td>marisha</td>\n      <td>a first impression of keyleth would leave you ...</td>\n      <td>44</td>\n      <td>1</td>\n    </tr>\n  </tbody>\n</table>\n</div>",
      "text/plain": "   Unnamed: 0    start_time      end_time     name  \\\n0           0  00:00:00.314  00:00:13.387     matt   \n1           1  00:00:24.239  00:01:09.809     matt   \n2           2  00:01:09.809  00:01:29.671   travis   \n3           3  00:01:30.632  00:02:57.286   travis   \n4           4  00:02:57.286  00:03:13.178  marisha   \n\n                                              speech  count  episode  \n0  hello everyone. my name is matthew mercer, voi...     31        1  \n1  welcome to first episode of critical role, and...    167        1  \n2  right, listen up! if you have ale, then you ha...     39        1  \n3  wait. easily the brains of the group, grog is ...    180        1  \n4  a first impression of keyleth would leave you ...     44        1  "
     },
     "execution_count": 4,
     "metadata": {},
     "output_type": "execute_result"
    }
   ],
   "source": [
    "C1_processed_vtt = pd.read_csv('data_output/C1_processed_vtt_df.csv')\n",
    "C1_processed_vtt.head()"
   ]
  },
  {
   "cell_type": "code",
   "execution_count": 5,
   "metadata": {},
   "outputs": [
    {
     "data": {
      "text/html": "<div>\n<style scoped>\n    .dataframe tbody tr th:only-of-type {\n        vertical-align: middle;\n    }\n\n    .dataframe tbody tr th {\n        vertical-align: top;\n    }\n\n    .dataframe thead th {\n        text-align: right;\n    }\n</style>\n<table border=\"1\" class=\"dataframe\">\n  <thead>\n    <tr style=\"text-align: right;\">\n      <th></th>\n      <th>name</th>\n      <th>speech</th>\n      <th>count</th>\n      <th>episode</th>\n      <th>total_time</th>\n      <th>start_time</th>\n      <th>end_time</th>\n      <th>person</th>\n      <th>campaign</th>\n    </tr>\n  </thead>\n  <tbody>\n    <tr>\n      <th>10</th>\n      <td>laura</td>\n      <td>like so many half-elves, vexahlia has spent mo...</td>\n      <td>211</td>\n      <td>1</td>\n      <td>85.730</td>\n      <td>663.958</td>\n      <td>749.688</td>\n      <td>laura</td>\n      <td>1</td>\n    </tr>\n    <tr>\n      <th>25</th>\n      <td>laura</td>\n      <td>hi. im laura bailey. im also, you know, a voic...</td>\n      <td>14</td>\n      <td>1</td>\n      <td>6.468</td>\n      <td>948.472</td>\n      <td>954.940</td>\n      <td>laura</td>\n      <td>1</td>\n    </tr>\n    <tr>\n      <th>27</th>\n      <td>laura</td>\n      <td>im playing vexahlia. the coolest chick ever.</td>\n      <td>7</td>\n      <td>1</td>\n      <td>3.056</td>\n      <td>956.792</td>\n      <td>959.848</td>\n      <td>laura</td>\n      <td>1</td>\n    </tr>\n    <tr>\n      <th>29</th>\n      <td>laura</td>\n      <td>the ranger with the bear named trinket, in cas...</td>\n      <td>20</td>\n      <td>1</td>\n      <td>4.190</td>\n      <td>962.693</td>\n      <td>966.883</td>\n      <td>laura</td>\n      <td>1</td>\n    </tr>\n    <tr>\n      <th>56</th>\n      <td>laura</td>\n      <td>oh no.</td>\n      <td>2</td>\n      <td>1</td>\n      <td>0.652</td>\n      <td>1202.212</td>\n      <td>1202.864</td>\n      <td>laura</td>\n      <td>1</td>\n    </tr>\n  </tbody>\n</table>\n</div>",
      "text/plain": "     name                                             speech  count  episode  \\\n10  laura  like so many half-elves, vexahlia has spent mo...    211        1   \n25  laura  hi. im laura bailey. im also, you know, a voic...     14        1   \n27  laura      im playing vexahlia. the coolest chick ever.       7        1   \n29  laura  the ranger with the bear named trinket, in cas...     20        1   \n56  laura                                            oh no.       2        1   \n\n    total_time  start_time  end_time person  campaign  \n10      85.730     663.958   749.688  laura         1  \n25       6.468     948.472   954.940  laura         1  \n27       3.056     956.792   959.848  laura         1  \n29       4.190     962.693   966.883  laura         1  \n56       0.652    1202.212  1202.864  laura         1  "
     },
     "execution_count": 5,
     "metadata": {},
     "output_type": "execute_result"
    }
   ],
   "source": [
    "C1_org_name = vtt.org_time_person(C1_processed_vtt, 'C1')\n",
    "C1_org_name.to_csv('data_output/C1_org_name.csv')\n",
    "C1_org_name.head()"
   ]
  },
  {
   "cell_type": "code",
   "execution_count": 6,
   "metadata": {},
   "outputs": [
    {
     "data": {
      "text/html": "<div>\n<style scoped>\n    .dataframe tbody tr th:only-of-type {\n        vertical-align: middle;\n    }\n\n    .dataframe tbody tr th {\n        vertical-align: top;\n    }\n\n    .dataframe thead th {\n        text-align: right;\n    }\n</style>\n<table border=\"1\" class=\"dataframe\">\n  <thead>\n    <tr style=\"text-align: right;\">\n      <th></th>\n      <th>person</th>\n      <th>episode</th>\n      <th>word_count</th>\n      <th>line_count</th>\n      <th>time_count</th>\n      <th>cont_line_count</th>\n      <th>cont_word_count</th>\n      <th>cont_time_count</th>\n    </tr>\n  </thead>\n  <tbody>\n    <tr>\n      <th>0</th>\n      <td>ashley</td>\n      <td>1</td>\n      <td>0</td>\n      <td>0</td>\n      <td>0.000</td>\n      <td>0</td>\n      <td>0</td>\n      <td>0.000</td>\n    </tr>\n    <tr>\n      <th>1</th>\n      <td>ashley</td>\n      <td>2</td>\n      <td>0</td>\n      <td>0</td>\n      <td>0.000</td>\n      <td>0</td>\n      <td>0</td>\n      <td>0.000</td>\n    </tr>\n    <tr>\n      <th>2</th>\n      <td>ashley</td>\n      <td>3</td>\n      <td>0</td>\n      <td>0</td>\n      <td>0.000</td>\n      <td>0</td>\n      <td>0</td>\n      <td>0.000</td>\n    </tr>\n    <tr>\n      <th>3</th>\n      <td>ashley</td>\n      <td>4</td>\n      <td>2000</td>\n      <td>248</td>\n      <td>759.153</td>\n      <td>248</td>\n      <td>2000</td>\n      <td>759.153</td>\n    </tr>\n    <tr>\n      <th>4</th>\n      <td>ashley</td>\n      <td>5</td>\n      <td>1366</td>\n      <td>255</td>\n      <td>495.454</td>\n      <td>503</td>\n      <td>3366</td>\n      <td>1254.607</td>\n    </tr>\n  </tbody>\n</table>\n</div>",
      "text/plain": "   person  episode  word_count  line_count  time_count  cont_line_count  \\\n0  ashley        1           0           0       0.000                0   \n1  ashley        2           0           0       0.000                0   \n2  ashley        3           0           0       0.000                0   \n3  ashley        4        2000         248     759.153              248   \n4  ashley        5        1366         255     495.454              503   \n\n   cont_word_count  cont_time_count  \n0                0            0.000  \n1                0            0.000  \n2                0            0.000  \n3             2000          759.153  \n4             3366         1254.607  "
     },
     "execution_count": 6,
     "metadata": {},
     "output_type": "execute_result"
    }
   ],
   "source": [
    "C1_group_person_ep = vtt.group_by_person_episode(C1_org_name)\n",
    "C1_count_ep = vtt.count_per_episode(C1_group_person_ep)\n",
    "C1_count_ep.head()"
   ]
  },
  {
   "cell_type": "code",
   "execution_count": 11,
   "metadata": {},
   "outputs": [
    {
     "data": {
      "text/html": "<div>\n<style scoped>\n    .dataframe tbody tr th:only-of-type {\n        vertical-align: middle;\n    }\n\n    .dataframe tbody tr th {\n        vertical-align: top;\n    }\n\n    .dataframe thead th {\n        text-align: right;\n    }\n</style>\n<table border=\"1\" class=\"dataframe\">\n  <thead>\n    <tr style=\"text-align: right;\">\n      <th></th>\n      <th>episode</th>\n      <th>person</th>\n      <th>speech</th>\n      <th>Subjectivity</th>\n      <th>Polarity</th>\n    </tr>\n  </thead>\n  <tbody>\n    <tr>\n      <th>0</th>\n      <td>1</td>\n      <td>guest</td>\n      <td>just so you know, were having an audio bottlen...</td>\n      <td>0.411111</td>\n      <td>0.103333</td>\n    </tr>\n    <tr>\n      <th>1</th>\n      <td>1</td>\n      <td>laura</td>\n      <td>like so many half-elves, vexahlia has spent mo...</td>\n      <td>0.533649</td>\n      <td>0.180760</td>\n    </tr>\n    <tr>\n      <th>2</th>\n      <td>1</td>\n      <td>liam</td>\n      <td>never entirely welcome in the company of elves...</td>\n      <td>0.511508</td>\n      <td>0.115379</td>\n    </tr>\n    <tr>\n      <th>3</th>\n      <td>1</td>\n      <td>marisha</td>\n      <td>a first impression of keyleth would leave you ...</td>\n      <td>0.575266</td>\n      <td>0.144104</td>\n    </tr>\n    <tr>\n      <th>4</th>\n      <td>1</td>\n      <td>matt</td>\n      <td>hello everyone. my name is matthew mercer, voi...</td>\n      <td>0.444532</td>\n      <td>0.068142</td>\n    </tr>\n  </tbody>\n</table>\n</div>",
      "text/plain": "   episode   person                                             speech  \\\n0        1    guest  just so you know, were having an audio bottlen...   \n1        1    laura  like so many half-elves, vexahlia has spent mo...   \n2        1     liam  never entirely welcome in the company of elves...   \n3        1  marisha  a first impression of keyleth would leave you ...   \n4        1     matt  hello everyone. my name is matthew mercer, voi...   \n\n   Subjectivity  Polarity  \n0      0.411111  0.103333  \n1      0.533649  0.180760  \n2      0.511508  0.115379  \n3      0.575266  0.144104  \n4      0.444532  0.068142  "
     },
     "execution_count": 11,
     "metadata": {},
     "output_type": "execute_result"
    }
   ],
   "source": [
    "C1_sentiment = vtt.sentiment_per_person_and_episode(C1_org_name)\n",
    "C1_sentiment.to_csv('data_output/C1_sentiment.csv')\n",
    "C1_sentiment.head()"
   ]
  },
  {
   "cell_type": "code",
   "execution_count": 12,
   "metadata": {},
   "outputs": [
    {
     "name": "stdout",
     "output_type": "stream",
     "text": "Completed: ep 10 (0.56 min)\nCompleted: ep 20 (0.6 min)\nCompleted: ep 30 (0.63 min)\nCompleted: ep 40 (0.55 min)\nCompleted: ep 50 (0.64 min)\nCompleted: ep 60 (1.68 min)\nCompleted: ep 70 (4.45 min)\nCompleted: ep 80 (3.76 min)\nCompleted: ep 90 (3.66 min)\nCompleted: all\n"
    }
   ],
   "source": [
    "C2_processed_vtt_df = vtt.episode_extract('C2', 1, 90)\n",
    "C2_processed_vtt_df.to_csv('data_output/C2_processed_vtt_df.csv')"
   ]
  },
  {
   "cell_type": "code",
   "execution_count": 9,
   "metadata": {},
   "outputs": [],
   "source": [
    "C2_processed_vtt = pd.read_csv('data_output/C2_processed_vtt_df.csv')\n",
    "C2_org_name = vtt.org_time_person(C2_processed_vtt, 'C2')\n",
    "C2_org_name.to_csv('data_output/C2_org_name.csv')"
   ]
  },
  {
   "cell_type": "code",
   "execution_count": 10,
   "metadata": {},
   "outputs": [
    {
     "data": {
      "text/html": "<div>\n<style scoped>\n    .dataframe tbody tr th:only-of-type {\n        vertical-align: middle;\n    }\n\n    .dataframe tbody tr th {\n        vertical-align: top;\n    }\n\n    .dataframe thead th {\n        text-align: right;\n    }\n</style>\n<table border=\"1\" class=\"dataframe\">\n  <thead>\n    <tr style=\"text-align: right;\">\n      <th></th>\n      <th>episode</th>\n      <th>person</th>\n      <th>speech</th>\n      <th>Subjectivity</th>\n      <th>Polarity</th>\n    </tr>\n  </thead>\n  <tbody>\n    <tr>\n      <th>0</th>\n      <td>1</td>\n      <td>ashley</td>\n      <td>jeez louise, matt. . also, fun fact about ian ...</td>\n      <td>0.526598</td>\n      <td>0.116463</td>\n    </tr>\n    <tr>\n      <th>1</th>\n      <td>1</td>\n      <td>laura</td>\n      <td>as in nnnn. . thanks, sam! . we have cubbies! ...</td>\n      <td>0.519500</td>\n      <td>0.127823</td>\n    </tr>\n    <tr>\n      <th>2</th>\n      <td>1</td>\n      <td>liam</td>\n      <td>thats actually how purvon dressed. . it is com...</td>\n      <td>0.519845</td>\n      <td>0.071780</td>\n    </tr>\n    <tr>\n      <th>3</th>\n      <td>1</td>\n      <td>marisha</td>\n      <td>it smells like wood in the studio, like fresh ...</td>\n      <td>0.583031</td>\n      <td>0.156916</td>\n    </tr>\n    <tr>\n      <th>4</th>\n      <td>1</td>\n      <td>matt</td>\n      <td>hello, everyone. . and welcome to tonights epi...</td>\n      <td>0.453280</td>\n      <td>0.092876</td>\n    </tr>\n  </tbody>\n</table>\n</div>",
      "text/plain": "   episode   person                                             speech  \\\n0        1   ashley  jeez louise, matt. . also, fun fact about ian ...   \n1        1    laura  as in nnnn. . thanks, sam! . we have cubbies! ...   \n2        1     liam  thats actually how purvon dressed. . it is com...   \n3        1  marisha  it smells like wood in the studio, like fresh ...   \n4        1     matt  hello, everyone. . and welcome to tonights epi...   \n\n   Subjectivity  Polarity  \n0      0.526598  0.116463  \n1      0.519500  0.127823  \n2      0.519845  0.071780  \n3      0.583031  0.156916  \n4      0.453280  0.092876  "
     },
     "execution_count": 10,
     "metadata": {},
     "output_type": "execute_result"
    }
   ],
   "source": [
    "C2_sentiment = vtt.sentiment_per_person_and_episode(C2_org_name)\n",
    "C2_sentiment.to_csv('data_output/C2_sentiment.csv')\n",
    "C2_sentiment.head()"
   ]
  }
 ]
}