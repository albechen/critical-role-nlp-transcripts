{
 "nbformat": 4,
 "nbformat_minor": 2,
 "metadata": {
  "language_info": {
   "name": "python",
   "codemirror_mode": {
    "name": "ipython",
    "version": 3
   },
   "version": "3.7.6-final"
  },
  "orig_nbformat": 2,
  "file_extension": ".py",
  "mimetype": "text/x-python",
  "name": "python",
  "npconvert_exporter": "python",
  "pygments_lexer": "ipython3",
  "version": 3,
  "kernelspec": {
   "name": "python37664bitprogramdatavirtualenv84195b66dd3b45dcb81955aa5916d881",
   "display_name": "Python 3.7.6 64-bit ('ProgramData': virtualenv)"
  }
 },
 "cells": [
  {
   "cell_type": "code",
   "execution_count": 1,
   "metadata": {},
   "outputs": [],
   "source": [
    "import pandas as pd"
   ]
  },
  {
   "cell_type": "code",
   "execution_count": 2,
   "metadata": {},
   "outputs": [],
   "source": [
    "def combine_two_part_ep(two_part_ep):\n",
    "    for ep in two_part_ep:\n",
    "        join_ep = []\n",
    "        path_1 = (\"S1/C1E%s-1_FINAL.txt\" % ep)\n",
    "        path_2 = (\"S1/C1E%s-2_FINAL.txt\" % ep)\n",
    "        with open(path_1, \"r\", encoding=\"latin-1\") as p1_ep:\n",
    "            p1_ep = p1_ep.read().splitlines()\n",
    "            with open(path_2, \"r\", encoding=\"latin-1\") as p2_ep:\n",
    "                p2_ep = p2_ep.read().splitlines()\n",
    "                join_ep = p1_ep + p2_ep\n",
    "        with open(\"S1/C1E%s_FINAL.txt\" % ep, 'w', encoding='latin-1') as comb_ep:\n",
    "            for line in join_ep:\n",
    "                comb_ep.write('%s\\n' % line)\n",
    "\n",
    "combine_two_part_ep(['035', '033', '031'])"
   ]
  },
  {
   "cell_type": "code",
   "execution_count": 32,
   "metadata": {},
   "outputs": [],
   "source": [
    "def split_name_speech_count(cont_line):\n",
    "    name_split = cont_line.index(':')\n",
    "    name = cont_line[:name_split]\n",
    "\n",
    "    speak_split = name_split + 2\n",
    "    speak = cont_line[speak_split:]\n",
    "\n",
    "    count = len(speak.split())\n",
    "\n",
    "    split_line = (name, speak, count)\n",
    "    return split_line\n",
    "\n",
    "\n",
    "def extract_lines(raw_lines):\n",
    "    count = 0\n",
    "    org_list = []\n",
    "    cont_line = []\n",
    "    raw_lines = [t for t in raw_lines if t]\n",
    "\n",
    "    for line in raw_lines:\n",
    "        line = line.lower()\n",
    "        remove_char = ['\\'', '\\\"', '.', ',', '?', '/', '!']\n",
    "        for char in remove_char:\n",
    "            line = line.replace(char, '')\n",
    "\n",
    "        count += 1\n",
    "        if count != len(raw_lines):\n",
    "            if ':' in line:\n",
    "                colen_index= line.index(':')\n",
    "                if colen_index <= 30:\n",
    "                    if cont_line != []:\n",
    "                        split_line = split_name_speech_count(cont_line)\n",
    "                        org_list.append(split_line)\n",
    "                        cont_line = line\n",
    "                    else:\n",
    "                        cont_line = line\n",
    "            elif org_list == []:\n",
    "                pass\n",
    "            else:\n",
    "                cont_line = cont_line + ' ' + line\n",
    "        else:\n",
    "            split_line = split_name_speech_count(cont_line)\n",
    "            org_list.append(split_line)\n",
    "\n",
    "    ep_df = pd.DataFrame(org_list, columns =['name', 'speech', 'count'])\n",
    "\n",
    "    return ep_df\n",
    "\n",
    "\n",
    "def episode_extract(start_ep, end_ep):\n",
    "    all_ep_df = pd.DataFrame()\n",
    "    end_ep += 1\n",
    "    ep_list = list(range(start_ep,end_ep))\n",
    "    ep_zfill = [str(ep).zfill(3) for ep in ep_list]\n",
    "    \n",
    "    for ep in ep_zfill:\n",
    "        path = (\"S1/C1E%s_FINAL.txt\" % ep)\n",
    "        with open(path, \"r\", encoding=\"latin-1\") as ep_raw:\n",
    "            ep_raw = ep_raw.read().splitlines()\n",
    "            ep_df = extract_lines(ep_raw)\n",
    "            ep_df['episode'] = ep\n",
    "            all_ep_df = all_ep_df.append(ep_df)\n",
    "\n",
    "    return all_ep_df"
   ]
  },
  {
   "cell_type": "code",
   "execution_count": 88,
   "metadata": {},
   "outputs": [],
   "source": [
    "def mapping_names(all_ep_df):\n",
    "    laura_name_list = ['all', 'laura', 'vex', '-laura']\n",
    "    matt_name_list = ['all', 'matt', 'matthew', 'decide', '-matt', 'sherri', 'allura', 'gilmore', 'Adra', 'kima', 'kaylee', 'fast', 'uriel', 'balgus', 'mat', 'caught up']\n",
    "    marisha_name_list = ['all', 'marisha', 'keyleth', '-marisha']\n",
    "    sam_name_list = ['all', 'sam', 'scanlan', '-sam']\n",
    "    taliesin_name_list = ['all', 'taliesin', 'percy', '-taliesin']\n",
    "    liam_name_list = ['all', 'liam', 'vax', '-liam']\n",
    "    travis_name_list = ['all', 'travis', 'grog', '-travis']\n",
    "    ashley_name_list = ['all', 'ashley', 'pike', '-ashley']\n",
    "    orion_name_list = ['orion', 'tiberius', '-orion']\n",
    "    guest_name_list = ['zac', 'will', 'mary', 'patrick', 'felicia', 'wil', 'chris', 'jon', 'joe', 'darin', 'noelle', 'kit', 'jason', 'patrick rothfuss']\n",
    "    break_name_list = ['ify', 'dan', 'brian', 'loves in his life', 'ivan', 'kevin', 'this wonderful show are']\n",
    "\n",
    "    name_list = [laura_name_list, matt_name_list, \n",
    "        marisha_name_list, sam_name_list, taliesin_name_list, \n",
    "        liam_name_list, travis_name_list, ashley_name_list, \n",
    "        orion_name_list, guest_name_list]\n",
    "\n",
    "    names = ['laura', 'matt', \n",
    "        'marisha', 'sam', 'taliesin', \n",
    "        'liam', 'travis', 'ashley', \n",
    "        'orion', 'guest']\n",
    "\n",
    "    for names, name_list in zip(names, name_list):\n",
    "        all_ep_df[names] = all_ep_df['name'].map(lambda y: 1 if any(word in name_list for word in y.split()) else 0)\n",
    "    \n",
    "    return all_ep_df"
   ]
  },
  {
   "cell_type": "code",
   "execution_count": 89,
   "metadata": {},
   "outputs": [],
   "source": [
    "test_df = episode_extract(1, 115)\n",
    "extract_names = mapping_names(test_df)"
   ]
  },
  {
   "cell_type": "code",
   "execution_count": 100,
   "metadata": {},
   "outputs": [
    {
     "data": {
      "text/html": "<div>\n<style scoped>\n    .dataframe tbody tr th:only-of-type {\n        vertical-align: middle;\n    }\n\n    .dataframe tbody tr th {\n        vertical-align: top;\n    }\n\n    .dataframe thead th {\n        text-align: right;\n    }\n</style>\n<table border=\"1\" class=\"dataframe\">\n  <thead>\n    <tr style=\"text-align: right;\">\n      <th></th>\n      <th>name</th>\n      <th>speech</th>\n      <th>count</th>\n      <th>episode</th>\n    </tr>\n  </thead>\n  <tbody>\n    <tr>\n      <th>0</th>\n      <td>matt</td>\n      <td>hello everyone my name is matthew mercer</td>\n      <td>7</td>\n      <td>001</td>\n    </tr>\n    <tr>\n      <th>1</th>\n      <td>matt</td>\n      <td>welcome to first episode of critical role  and...</td>\n      <td>65</td>\n      <td>001</td>\n    </tr>\n    <tr>\n      <th>2</th>\n      <td>so before we get to that</td>\n      <td>to give you a little backstory  on the charact...</td>\n      <td>104</td>\n      <td>001</td>\n    </tr>\n    <tr>\n      <th>3</th>\n      <td>grog</td>\n      <td>right listen up if you have ale  then you have...</td>\n      <td>31</td>\n      <td>001</td>\n    </tr>\n    <tr>\n      <th>4</th>\n      <td>loves in his life</td>\n      <td>combat women and ale (chuckle) (record scratch...</td>\n      <td>194</td>\n      <td>001</td>\n    </tr>\n    <tr>\n      <th>...</th>\n      <td>...</td>\n      <td>...</td>\n      <td>...</td>\n      <td>...</td>\n    </tr>\n    <tr>\n      <th>2209</th>\n      <td>marisha</td>\n      <td>that was beautiful</td>\n      <td>3</td>\n      <td>115</td>\n    </tr>\n    <tr>\n      <th>2210</th>\n      <td>sam</td>\n      <td>thanks matt that was really nice</td>\n      <td>6</td>\n      <td>115</td>\n    </tr>\n    <tr>\n      <th>2211</th>\n      <td>matt</td>\n      <td>love you guys</td>\n      <td>3</td>\n      <td>115</td>\n    </tr>\n    <tr>\n      <th>2212</th>\n      <td>laura</td>\n      <td>love you matthew</td>\n      <td>3</td>\n      <td>115</td>\n    </tr>\n    <tr>\n      <th>2213</th>\n      <td>matt</td>\n      <td>love you guys have a wonderful night rest</td>\n      <td>8</td>\n      <td>115</td>\n    </tr>\n  </tbody>\n</table>\n<p>285340 rows × 4 columns</p>\n</div>",
      "text/plain": "                          name  \\\n0                         matt   \n1                         matt   \n2     so before we get to that   \n3                         grog   \n4            loves in his life   \n...                        ...   \n2209                   marisha   \n2210                       sam   \n2211                      matt   \n2212                     laura   \n2213                      matt   \n\n                                                 speech  count episode  \n0             hello everyone my name is matthew mercer       7     001  \n1     welcome to first episode of critical role  and...     65     001  \n2     to give you a little backstory  on the charact...    104     001  \n3     right listen up if you have ale  then you have...     31     001  \n4     combat women and ale (chuckle) (record scratch...    194     001  \n...                                                 ...    ...     ...  \n2209                                 that was beautiful      3     115  \n2210                   thanks matt that was really nice      6     115  \n2211                                      love you guys      3     115  \n2212                                   love you matthew      3     115  \n2213          love you guys have a wonderful night rest      8     115  \n\n[285340 rows x 4 columns]"
     },
     "execution_count": 100,
     "metadata": {},
     "output_type": "execute_result"
    }
   ],
   "source": [
    "extract_names[['name', 'speech', 'count', 'episode']]"
   ]
  },
  {
   "cell_type": "code",
   "execution_count": 90,
   "metadata": {},
   "outputs": [
    {
     "data": {
      "text/html": "<div>\n<style scoped>\n    .dataframe tbody tr th:only-of-type {\n        vertical-align: middle;\n    }\n\n    .dataframe tbody tr th {\n        vertical-align: top;\n    }\n\n    .dataframe thead th {\n        text-align: right;\n    }\n</style>\n<table border=\"1\" class=\"dataframe\">\n  <thead>\n    <tr style=\"text-align: right;\">\n      <th></th>\n      <th>name</th>\n      <th>speech</th>\n      <th>count</th>\n      <th>episode</th>\n      <th>laura</th>\n      <th>matt</th>\n      <th>marisha</th>\n      <th>sam</th>\n      <th>taliesin</th>\n      <th>liam</th>\n      <th>travis</th>\n      <th>ashley</th>\n      <th>orion</th>\n      <th>guest</th>\n    </tr>\n  </thead>\n  <tbody>\n    <tr>\n      <th>0</th>\n      <td>matt</td>\n      <td>hello everyone my name is matthew mercer</td>\n      <td>7</td>\n      <td>001</td>\n      <td>0</td>\n      <td>1</td>\n      <td>0</td>\n      <td>0</td>\n      <td>0</td>\n      <td>0</td>\n      <td>0</td>\n      <td>0</td>\n      <td>0</td>\n      <td>0</td>\n    </tr>\n    <tr>\n      <th>1</th>\n      <td>matt</td>\n      <td>welcome to first episode of critical role  and...</td>\n      <td>65</td>\n      <td>001</td>\n      <td>0</td>\n      <td>1</td>\n      <td>0</td>\n      <td>0</td>\n      <td>0</td>\n      <td>0</td>\n      <td>0</td>\n      <td>0</td>\n      <td>0</td>\n      <td>0</td>\n    </tr>\n    <tr>\n      <th>2</th>\n      <td>so before we get to that</td>\n      <td>to give you a little backstory  on the charact...</td>\n      <td>104</td>\n      <td>001</td>\n      <td>0</td>\n      <td>0</td>\n      <td>0</td>\n      <td>0</td>\n      <td>0</td>\n      <td>0</td>\n      <td>0</td>\n      <td>0</td>\n      <td>0</td>\n      <td>0</td>\n    </tr>\n    <tr>\n      <th>3</th>\n      <td>grog</td>\n      <td>right listen up if you have ale  then you have...</td>\n      <td>31</td>\n      <td>001</td>\n      <td>0</td>\n      <td>0</td>\n      <td>0</td>\n      <td>0</td>\n      <td>0</td>\n      <td>0</td>\n      <td>1</td>\n      <td>0</td>\n      <td>0</td>\n      <td>0</td>\n    </tr>\n    <tr>\n      <th>4</th>\n      <td>loves in his life</td>\n      <td>combat women and ale (chuckle) (record scratch...</td>\n      <td>194</td>\n      <td>001</td>\n      <td>0</td>\n      <td>0</td>\n      <td>0</td>\n      <td>0</td>\n      <td>0</td>\n      <td>0</td>\n      <td>0</td>\n      <td>0</td>\n      <td>0</td>\n      <td>0</td>\n    </tr>\n    <tr>\n      <th>...</th>\n      <td>...</td>\n      <td>...</td>\n      <td>...</td>\n      <td>...</td>\n      <td>...</td>\n      <td>...</td>\n      <td>...</td>\n      <td>...</td>\n      <td>...</td>\n      <td>...</td>\n      <td>...</td>\n      <td>...</td>\n      <td>...</td>\n      <td>...</td>\n    </tr>\n    <tr>\n      <th>2209</th>\n      <td>marisha</td>\n      <td>that was beautiful</td>\n      <td>3</td>\n      <td>115</td>\n      <td>0</td>\n      <td>0</td>\n      <td>1</td>\n      <td>0</td>\n      <td>0</td>\n      <td>0</td>\n      <td>0</td>\n      <td>0</td>\n      <td>0</td>\n      <td>0</td>\n    </tr>\n    <tr>\n      <th>2210</th>\n      <td>sam</td>\n      <td>thanks matt that was really nice</td>\n      <td>6</td>\n      <td>115</td>\n      <td>0</td>\n      <td>0</td>\n      <td>0</td>\n      <td>1</td>\n      <td>0</td>\n      <td>0</td>\n      <td>0</td>\n      <td>0</td>\n      <td>0</td>\n      <td>0</td>\n    </tr>\n    <tr>\n      <th>2211</th>\n      <td>matt</td>\n      <td>love you guys</td>\n      <td>3</td>\n      <td>115</td>\n      <td>0</td>\n      <td>1</td>\n      <td>0</td>\n      <td>0</td>\n      <td>0</td>\n      <td>0</td>\n      <td>0</td>\n      <td>0</td>\n      <td>0</td>\n      <td>0</td>\n    </tr>\n    <tr>\n      <th>2212</th>\n      <td>laura</td>\n      <td>love you matthew</td>\n      <td>3</td>\n      <td>115</td>\n      <td>1</td>\n      <td>0</td>\n      <td>0</td>\n      <td>0</td>\n      <td>0</td>\n      <td>0</td>\n      <td>0</td>\n      <td>0</td>\n      <td>0</td>\n      <td>0</td>\n    </tr>\n    <tr>\n      <th>2213</th>\n      <td>matt</td>\n      <td>love you guys have a wonderful night rest</td>\n      <td>8</td>\n      <td>115</td>\n      <td>0</td>\n      <td>1</td>\n      <td>0</td>\n      <td>0</td>\n      <td>0</td>\n      <td>0</td>\n      <td>0</td>\n      <td>0</td>\n      <td>0</td>\n      <td>0</td>\n    </tr>\n  </tbody>\n</table>\n<p>285340 rows × 14 columns</p>\n</div>",
      "text/plain": "                          name  \\\n0                         matt   \n1                         matt   \n2     so before we get to that   \n3                         grog   \n4            loves in his life   \n...                        ...   \n2209                   marisha   \n2210                       sam   \n2211                      matt   \n2212                     laura   \n2213                      matt   \n\n                                                 speech  count episode  laura  \\\n0             hello everyone my name is matthew mercer       7     001      0   \n1     welcome to first episode of critical role  and...     65     001      0   \n2     to give you a little backstory  on the charact...    104     001      0   \n3     right listen up if you have ale  then you have...     31     001      0   \n4     combat women and ale (chuckle) (record scratch...    194     001      0   \n...                                                 ...    ...     ...    ...   \n2209                                 that was beautiful      3     115      0   \n2210                   thanks matt that was really nice      6     115      0   \n2211                                      love you guys      3     115      0   \n2212                                   love you matthew      3     115      1   \n2213          love you guys have a wonderful night rest      8     115      0   \n\n      matt  marisha  sam  taliesin  liam  travis  ashley  orion  guest  \n0        1        0    0         0     0       0       0      0      0  \n1        1        0    0         0     0       0       0      0      0  \n2        0        0    0         0     0       0       0      0      0  \n3        0        0    0         0     0       1       0      0      0  \n4        0        0    0         0     0       0       0      0      0  \n...    ...      ...  ...       ...   ...     ...     ...    ...    ...  \n2209     0        1    0         0     0       0       0      0      0  \n2210     0        0    1         0     0       0       0      0      0  \n2211     1        0    0         0     0       0       0      0      0  \n2212     0        0    0         0     0       0       0      0      0  \n2213     1        0    0         0     0       0       0      0      0  \n\n[285340 rows x 14 columns]"
     },
     "execution_count": 90,
     "metadata": {},
     "output_type": "execute_result"
    }
   ],
   "source": [
    "extract_names"
   ]
  },
  {
   "cell_type": "code",
   "execution_count": 103,
   "metadata": {},
   "outputs": [],
   "source": [
    "names = ['laura', 'matt', \n",
    "    'marisha', 'sam', 'taliesin', \n",
    "    'liam', 'travis', 'ashley', \n",
    "    'orion', 'guest']\n",
    "\n",
    "org_names_df = pd.DataFrame()\n",
    "\n",
    "for name in names:\n",
    "    filtered_names_df = extract_names.loc[extract_names[name] == 1]\n",
    "    filtered_names_df = filtered_names_df[['name', 'speech', 'count', 'episode']]\n",
    "    filtered_names_df['person'] = name\n",
    "    org_names_df = org_names_df.append(filtered_names_df)\n"
   ]
  },
  {
   "cell_type": "code",
   "execution_count": 104,
   "metadata": {},
   "outputs": [
    {
     "data": {
      "text/html": "<div>\n<style scoped>\n    .dataframe tbody tr th:only-of-type {\n        vertical-align: middle;\n    }\n\n    .dataframe tbody tr th {\n        vertical-align: top;\n    }\n\n    .dataframe thead th {\n        text-align: right;\n    }\n</style>\n<table border=\"1\" class=\"dataframe\">\n  <thead>\n    <tr style=\"text-align: right;\">\n      <th></th>\n      <th>name</th>\n      <th>speech</th>\n      <th>count</th>\n      <th>episode</th>\n      <th>person</th>\n    </tr>\n  </thead>\n  <tbody>\n    <tr>\n      <th>12</th>\n      <td>vex</td>\n      <td>like so many half-elves  vexahlia has spent mo...</td>\n      <td>210</td>\n      <td>001</td>\n      <td>laura</td>\n    </tr>\n    <tr>\n      <th>32</th>\n      <td>laura</td>\n      <td>hi im laura bailey im also you know  a voice a...</td>\n      <td>16</td>\n      <td>001</td>\n      <td>laura</td>\n    </tr>\n    <tr>\n      <th>34</th>\n      <td>laura</td>\n      <td>and im playing vexahlia the coolest chick ever...</td>\n      <td>10</td>\n      <td>001</td>\n      <td>laura</td>\n    </tr>\n    <tr>\n      <th>36</th>\n      <td>laura</td>\n      <td>the ranger with the bear named trinket  in cas...</td>\n      <td>20</td>\n      <td>001</td>\n      <td>laura</td>\n    </tr>\n    <tr>\n      <th>46</th>\n      <td>laura</td>\n      <td>yeah we do</td>\n      <td>3</td>\n      <td>001</td>\n      <td>laura</td>\n    </tr>\n    <tr>\n      <th>...</th>\n      <td>...</td>\n      <td>...</td>\n      <td>...</td>\n      <td>...</td>\n      <td>...</td>\n    </tr>\n    <tr>\n      <th>498</th>\n      <td>mary</td>\n      <td>thank you</td>\n      <td>2</td>\n      <td>115</td>\n      <td>guest</td>\n    </tr>\n    <tr>\n      <th>499</th>\n      <td>will</td>\n      <td>luck in battle</td>\n      <td>3</td>\n      <td>115</td>\n      <td>guest</td>\n    </tr>\n    <tr>\n      <th>503</th>\n      <td>mary</td>\n      <td>thank you</td>\n      <td>2</td>\n      <td>115</td>\n      <td>guest</td>\n    </tr>\n    <tr>\n      <th>504</th>\n      <td>will</td>\n      <td>bastard treat her well or im going to come back</td>\n      <td>10</td>\n      <td>115</td>\n      <td>guest</td>\n    </tr>\n    <tr>\n      <th>506</th>\n      <td>will</td>\n      <td>thats true too</td>\n      <td>3</td>\n      <td>115</td>\n      <td>guest</td>\n    </tr>\n  </tbody>\n</table>\n<p>287769 rows × 5 columns</p>\n</div>",
      "text/plain": "      name                                             speech  count episode  \\\n12     vex  like so many half-elves  vexahlia has spent mo...    210     001   \n32   laura  hi im laura bailey im also you know  a voice a...     16     001   \n34   laura  and im playing vexahlia the coolest chick ever...     10     001   \n36   laura  the ranger with the bear named trinket  in cas...     20     001   \n46   laura                                         yeah we do      3     001   \n..     ...                                                ...    ...     ...   \n498   mary                                          thank you      2     115   \n499   will                                     luck in battle      3     115   \n503   mary                                          thank you      2     115   \n504   will    bastard treat her well or im going to come back     10     115   \n506   will                                     thats true too      3     115   \n\n    person  \n12   laura  \n32   laura  \n34   laura  \n36   laura  \n46   laura  \n..     ...  \n498  guest  \n499  guest  \n503  guest  \n504  guest  \n506  guest  \n\n[287769 rows x 5 columns]"
     },
     "execution_count": 104,
     "metadata": {},
     "output_type": "execute_result"
    }
   ],
   "source": [
    "org_names_df"
   ]
  },
  {
   "cell_type": "code",
   "execution_count": 34,
   "metadata": {},
   "outputs": [],
   "source": [
    "grouped_names = test_df.groupby(['name']).agg({'count': ['count', 'sum']})\n",
    "grouped_names.columns = ['line_count', 'word_count']"
   ]
  },
  {
   "cell_type": "code",
   "execution_count": 35,
   "metadata": {},
   "outputs": [
    {
     "name": "stdout",
     "output_type": "stream",
     "text": "0.9852446170750576\n"
    }
   ],
   "source": [
    "total_names = sum(grouped_names['word_count'])\n",
    "high_word_names = grouped_names.loc[grouped_names['word_count'] >= 1000]\n",
    "high_word_count = sum(high_word_names['word_count'])\n",
    "print (high_word_count/total_names)"
   ]
  },
  {
   "cell_type": "code",
   "execution_count": null,
   "metadata": {},
   "outputs": [],
   "source": []
  }
 ]
}