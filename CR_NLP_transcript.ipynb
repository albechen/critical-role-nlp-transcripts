{
 "nbformat": 4,
 "nbformat_minor": 2,
 "metadata": {
  "language_info": {
   "name": "python",
   "codemirror_mode": {
    "name": "ipython",
    "version": 3
   },
   "version": "3.7.6-final"
  },
  "orig_nbformat": 2,
  "file_extension": ".py",
  "mimetype": "text/x-python",
  "name": "python",
  "npconvert_exporter": "python",
  "pygments_lexer": "ipython3",
  "version": 3,
  "kernelspec": {
   "name": "python37664bitprogramdatavirtualenv84195b66dd3b45dcb81955aa5916d881",
   "display_name": "Python 3.7.6 64-bit ('ProgramData': virtualenv)"
  }
 },
 "cells": [
  {
   "cell_type": "code",
   "execution_count": 1,
   "metadata": {},
   "outputs": [],
   "source": [
    "import pandas as pd\n",
    "import pkg_vtt_extract as vtt\n",
    "\n",
    "%load_ext autoreload\n",
    "%autoreload 2"
   ]
  },
  {
   "cell_type": "code",
   "execution_count": null,
   "metadata": {},
   "outputs": [],
   "source": [
    "vtt.combine_two_part_ep('C1', 'Denouement _ Critical Role RPG Show Episode 35, pt. 1.en.vtt', \n",
    "    'Denouement _ Critical Role RPG Show Episode 35, pt. 2.en.vtt', 35)\n",
    "\n",
    "vtt.combine_two_part_ep('C1', 'Gunpowder Plot, pt. 1  _ Critical Role RPG Show Episode 31.en.vtt', \n",
    "    'Gunpowder Plot, pt. 2  _ Critical Role RPG Show Episode 31.en.vtt', 31)\n",
    "\n",
    "vtt.combine_two_part_ep('C1', 'Reunions _ Critical Role RPG Show Episode 33, pt. 1.en.vtt', \n",
    "    'Reunions _ Critical Role RPG Show Episode 33, pt. 2.en.vtt', 33)"
   ]
  },
  {
   "cell_type": "code",
   "execution_count": null,
   "metadata": {},
   "outputs": [],
   "source": [
    "vtt.rename_vtt('C1')\n",
    "vtt.rename_vtt('C2')"
   ]
  },
  {
   "cell_type": "code",
   "execution_count": 2,
   "metadata": {},
   "outputs": [
    {
     "name": "stdout",
     "output_type": "stream",
     "text": "Completed: ep 10 (1.03 min)\nCompleted: ep 20 (0.64 min)\nCompleted: ep 30 (0.53 min)\nCompleted: ep 40 (0.6 min)\nCompleted: ep 50 (0.62 min)\nCompleted: ep 60 (0.66 min)\nCompleted: ep 70 (0.54 min)\nCompleted: ep 80 (0.58 min)\nCompleted: ep 90 (0.88 min)\nCompleted: ep 100 (0.67 min)\nCompleted: ep 110 (0.4 min)\nCompleted: all\n"
    }
   ],
   "source": [
    "C1_processed_vtt_df = vtt.episode_extract('C1', 1, 115)\n",
    "C1_processed_vtt_df.to_csv('data_output/C1_processed_vtt_df.csv')"
   ]
  },
  {
   "cell_type": "code",
   "execution_count": 2,
   "metadata": {},
   "outputs": [],
   "source": [
    "C1_processed_vtt = pd.read_csv('data_output/C1_processed_vtt_df.csv')\n",
    "C1_org_name = vtt.org_time_person(C1_processed_vtt, 'C1')"
   ]
  },
  {
   "cell_type": "code",
   "execution_count": null,
   "metadata": {},
   "outputs": [],
   "source": [
    "vtt.lineplot_per_ep(C1_org_name, 'matt', 'C1')"
   ]
  },
  {
   "cell_type": "code",
   "execution_count": null,
   "metadata": {},
   "outputs": [],
   "source": [
    "vtt.lineplot_per_ep(C1_org_name, 'nomatt', 'C1')"
   ]
  },
  {
   "cell_type": "code",
   "execution_count": null,
   "metadata": {},
   "outputs": [],
   "source": [
    "vtt.densityplot_time_per_ep(C1_org_name, 'matt', 'C1')"
   ]
  },
  {
   "cell_type": "code",
   "execution_count": null,
   "metadata": {},
   "outputs": [],
   "source": [
    "vtt.densityplot_time_per_ep(C1_org_name, 'nomatt', 'C1')"
   ]
  },
  {
   "cell_type": "code",
   "execution_count": null,
   "metadata": {},
   "outputs": [],
   "source": [
    "vtt.lineplot_cont_count(C1_org_name, 'matt', 'C1')"
   ]
  },
  {
   "cell_type": "code",
   "execution_count": null,
   "metadata": {},
   "outputs": [],
   "source": [
    "vtt.lineplot_cont_count(C1_org_name, 'nomatt', 'C1')"
   ]
  },
  {
   "cell_type": "code",
   "execution_count": 9,
   "metadata": {},
   "outputs": [
    {
     "name": "stdout",
     "output_type": "stream",
     "text": "Completed: ep 10 (0.65 min)\nCompleted: ep 20 (0.61 min)\nCompleted: ep 30 (0.6 min)\nCompleted: ep 40 (0.51 min)\nCompleted: ep 50 (0.59 min)\nCompleted: ep 60 (1.52 min)\nCompleted: ep 70 (2.44 min)\nCompleted: ep 80 (2.39 min)\nCompleted: ep 90 (2.54 min)\nCompleted: all\n"
    }
   ],
   "source": [
    "C2_processed_vtt_df = vtt.episode_extract('C2', 1, 90)\n",
    "C2_processed_vtt_df.to_csv('data_output/C2_processed_vtt_df.csv')"
   ]
  },
  {
   "cell_type": "code",
   "execution_count": null,
   "metadata": {},
   "outputs": [],
   "source": [
    "C2_processed_vtt = pd.read_csv('data_output/C2_processed_vtt_df.csv')\n",
    "C2_org_name = vtt.org_time_person(C2_processed_vtt, 'C2')"
   ]
  },
  {
   "cell_type": "code",
   "execution_count": null,
   "metadata": {},
   "outputs": [],
   "source": [
    "vtt.lineplot_per_ep(C2_org_name, 'matt', 'C2')"
   ]
  },
  {
   "cell_type": "code",
   "execution_count": null,
   "metadata": {},
   "outputs": [],
   "source": [
    "vtt.lineplot_per_ep(C2_org_name, 'nomatt', 'C2')"
   ]
  },
  {
   "cell_type": "code",
   "execution_count": null,
   "metadata": {},
   "outputs": [],
   "source": [
    "vtt.densityplot_time_per_ep(C2_org_name, 'matt', 'C2')"
   ]
  },
  {
   "cell_type": "code",
   "execution_count": null,
   "metadata": {},
   "outputs": [],
   "source": [
    "vtt.densityplot_time_per_ep(C2_org_name, 'nomatt', 'C2')"
   ]
  },
  {
   "cell_type": "code",
   "execution_count": null,
   "metadata": {},
   "outputs": [],
   "source": [
    "vtt.lineplot_cont_count(C2_org_name, 'matt', 'C2')"
   ]
  },
  {
   "cell_type": "code",
   "execution_count": null,
   "metadata": {},
   "outputs": [],
   "source": [
    "vtt.lineplot_cont_count(C2_org_name, 'nomatt', 'C2')"
   ]
  },
  {
   "cell_type": "code",
   "execution_count": null,
   "metadata": {},
   "outputs": [],
   "source": [
    "total_names = sum(person_episode_group['word_count'])\n",
    "no_one_count = person_episode_group.loc[['no_one']]\n",
    "no_one_count = sum(no_one_count['word_count'])\n",
    "print ((total_names - no_one_count)/total_names)"
   ]
  },
  {
   "cell_type": "code",
   "execution_count": null,
   "metadata": {},
   "outputs": [],
   "source": []
  }
 ]
}